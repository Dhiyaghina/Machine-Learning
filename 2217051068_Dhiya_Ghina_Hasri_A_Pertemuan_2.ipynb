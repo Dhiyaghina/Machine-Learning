{
  "nbformat": 4,
  "nbformat_minor": 0,
  "metadata": {
    "colab": {
      "provenance": [],
      "toc_visible": true
    },
    "kernelspec": {
      "name": "python3",
      "display_name": "Python 3"
    },
    "language_info": {
      "name": "python"
    }
  },
  "cells": [
    {
      "cell_type": "markdown",
      "source": [
        "#Pertemuan 2"
      ],
      "metadata": {
        "id": "okKlGN9wfD5y"
      }
    },
    {
      "cell_type": "markdown",
      "source": [
        "##Library\n",
        "* Install sLibrary\n",
        "* Deklarasi Library\n",
        "* Library bisa disebut sebagai kumpulan kode yang dapat digunakan berulang kali dalam program yang berbeda\n",
        "* https://www.geeksforgeeks.org/libraries-in-python/\n"
      ],
      "metadata": {
        "id": "jPTQyqgWfXI3"
      }
    },
    {
      "cell_type": "code",
      "source": [
        "import numpy as np\n",
        "import pandas as pd\n",
        "import scipy\n",
        "from scipy.spatial.distance import cityblock, mahalanobis"
      ],
      "metadata": {
        "id": "FniLn0ZRgCKD"
      },
      "execution_count": null,
      "outputs": []
    },
    {
      "cell_type": "markdown",
      "source": [
        "## Dataset"
      ],
      "metadata": {
        "id": "IdEdkQVng70p"
      }
    },
    {
      "cell_type": "code",
      "source": [
        "# dataset pertama untuk perhitungan maanhattan distance dan euclidean distance\n",
        "P1 = np.array((4,1))\n",
        "P2 = np.array((1,3))\n",
        "\n",
        "# datase kedua untuk perhitungan mahalanobis distance\n",
        "X = np.array([[7.0,165,5],[7.4,160,5],[7.1,170,4],[7.3,150,5],\\\n",
        " [7.2,160,3]])"
      ],
      "metadata": {
        "id": "LyY6xgWAhjpx"
      },
      "execution_count": null,
      "outputs": []
    },
    {
      "cell_type": "code",
      "source": [
        "# info dataset\n",
        "print(X.shape)\n",
        "print(X.ndim)\n",
        "print(X)"
      ],
      "metadata": {
        "colab": {
          "base_uri": "https://localhost:8080/"
        },
        "id": "gXsNGa79j9VK",
        "outputId": "29f424a9-c9ff-4d11-852c-9cfd3e66a96f"
      },
      "execution_count": null,
      "outputs": [
        {
          "output_type": "stream",
          "name": "stdout",
          "text": [
            "(5, 3)\n",
            "2\n",
            "[[  7.  165.    5. ]\n",
            " [  7.4 160.    5. ]\n",
            " [  7.1 170.    4. ]\n",
            " [  7.3 150.    5. ]\n",
            " [  7.2 160.    3. ]]\n"
          ]
        }
      ]
    },
    {
      "cell_type": "markdown",
      "source": [
        "# Calculate Distance"
      ],
      "metadata": {
        "id": "72AgobwNkosd"
      }
    },
    {
      "cell_type": "markdown",
      "source": [
        "## Manhattan Distance\n",
        "Perhitungan jarak berdasarkan arah antar objek vektor"
      ],
      "metadata": {
        "id": "5YpXgrXrkyCn"
      }
    },
    {
      "cell_type": "code",
      "source": [
        "mht_dist = cityblock(P1,P2)\n",
        "print(mht_dist)"
      ],
      "metadata": {
        "colab": {
          "base_uri": "https://localhost:8080/"
        },
        "id": "AJDAgLZbk-K3",
        "outputId": "9b390ee8-f24e-41d3-c72d-8d1bb031c8b3"
      },
      "execution_count": null,
      "outputs": [
        {
          "output_type": "stream",
          "name": "stdout",
          "text": [
            "5\n"
          ]
        }
      ]
    },
    {
      "cell_type": "markdown",
      "source": [
        "## Euclidean Distance\n",
        "Perhitungan jarak berdasarkan teori pytagoras"
      ],
      "metadata": {
        "id": "jcyDgcnJlRk2"
      }
    },
    {
      "cell_type": "code",
      "source": [
        "# hitung selisih antara dua vectors\n",
        "temp = P1-P2\n",
        "\n",
        "# gunakan formula euclidean\n",
        "euclid_dist = np.sqrt(np.dot(temp.T, temp))\n",
        "print(np.dot(temp.T, temp))\n",
        "print(euclid_dist)"
      ],
      "metadata": {
        "colab": {
          "base_uri": "https://localhost:8080/"
        },
        "id": "Opun3PjmmN8M",
        "outputId": "53bafdf9-c539-49bd-e416-334f3075c69d"
      },
      "execution_count": null,
      "outputs": [
        {
          "output_type": "stream",
          "name": "stdout",
          "text": [
            "13\n",
            "3.605551275463989\n"
          ]
        }
      ]
    },
    {
      "cell_type": "markdown",
      "source": [
        "## Mahalanobis Distance\n",
        "Perhitungan jarak antar sekumpulan data (klaster)"
      ],
      "metadata": {
        "id": "UJ_NMxrbm1p1"
      }
    },
    {
      "cell_type": "code",
      "source": [
        "# Hitung konvaris dan invers konvarians dari daratset\n",
        "cov = np.cov(X.T)\n",
        "inv_cov = np.linalg.inv(cov)\n",
        "\n",
        "# Dua data baru dalam dataset\n",
        "x1 = np.array([7.1, 145, 3])\n",
        "x2 = np.array([6.0, 100, 5])\n",
        "\n",
        "# Hitung jarak Mahalanobis antara dua kumpulan titik/cluster\n",
        "mhlnbs_dist = mahalanobis(x1, x2, inv_cov)\n",
        "print(mhlnbs_dist)"
      ],
      "metadata": {
        "colab": {
          "base_uri": "https://localhost:8080/"
        },
        "id": "nf5IEd63oEbu",
        "outputId": "c38cb82e-553f-4178-a2f1-a134018566d3"
      },
      "execution_count": null,
      "outputs": [
        {
          "output_type": "stream",
          "name": "stdout",
          "text": [
            "15.370699331286659\n"
          ]
        }
      ]
    }
  ]
}